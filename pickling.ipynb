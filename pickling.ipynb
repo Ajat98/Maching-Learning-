{
 "cells": [
  {
   "cell_type": "code",
   "execution_count": 4,
   "metadata": {},
   "outputs": [],
   "source": [
    "import pandas as pd\n",
    "import datetime as dt\n",
    "import quandl\n",
    "import math\n",
    "import numpy as np \n",
    "from sklearn import preprocessing, model_selection, svm #cross_validation is now model_selection\n",
    "from sklearn.linear_model import LinearRegression\n",
    "import matplotlib.pyplot as plt    \n",
    "from matplotlib import style \n",
    "import pickle\n",
    "style.use('ggplot') \n"
   ]
  },
  {
   "cell_type": "code",
   "execution_count": 2,
   "metadata": {
    "tags": []
   },
   "outputs": [
    {
     "output_type": "stream",
     "name": "stdout",
     "text": "Adj. Close    HL_pct  PCT_change  Adj. Volume\nDate                                                     \n2004-08-19   50.322842  3.712563    0.324968   44659000.0\n2004-08-20   54.322689  0.710922    7.227007   22834300.0\n2004-08-23   54.869377  3.729433   -1.227880   18256100.0\n2004-08-24   52.597363  6.417469   -5.726357   15247300.0\n2004-08-25   53.164113  1.886792    1.183658    9188600.0\n"
    }
   ],
   "source": [
    "#Setting up dataframe\n",
    "df = quandl.get('WIKI/GOOGL')\n",
    "df = df[['Adj. Open', 'Adj. High', 'Adj. Low', 'Adj. Close', 'Adj. Volume']]\n",
    "df['HL_pct'] = (df['Adj. High'] - df['Adj. Close']) / df['Adj. Close'] * 100.00\n",
    "#Low minus high divided by open, for pct change\n",
    "df['PCT_change'] = (df['Adj. Close'] - df['Adj. Open']) / df['Adj. Open'] * 100.00\n",
    "\n",
    "df = df[['Adj. Close', 'HL_pct', 'PCT_change', 'Adj. Volume']]\n",
    "print(df.head())"
   ]
  },
  {
   "cell_type": "code",
   "execution_count": 3,
   "metadata": {},
   "outputs": [],
   "source": [
    "#col for forecasts\n",
    "forecast_col = 'Adj. Close'\n",
    "#fill missing data, to be treated as outlier\n",
    "df.fillna(-99999, inplace=True)\n",
    "#Will try and predict out 1% of df\n",
    "forecast_out = int(math.ceil(0.01*len(df)))\n",
    "\n",
    "#Shift columns negatively, will shift cols up the df.\n",
    "#Label col for each row will be adj close price from the future 1% ahead. About 30 days with current dataset\n",
    "df['label'] = df[forecast_col].shift(-forecast_out)"
   ]
  },
  {
   "cell_type": "code",
   "execution_count": null,
   "metadata": {},
   "outputs": [],
   "source": [
    "####\n",
    "#X for features, y for label\n",
    "\n",
    "X = np.array(df.drop(['label'], 1)) \n",
    "X = preprocessing.scale(X)\n",
    "X_recent = X[-forecast_out:] #Do not have a y-val for these\n",
    "X = X[:-forecast_out:]\n",
    "\n",
    "df.dropna(inplace=True)\n",
    "y = np.array(df['label'])\n",
    "\n",
    "X_train, X_test, y_train, y_test = model_selection.train_test_split(X, y, test_size=0.2)\n",
    "\n",
    "clf = LinearRegression(n_jobs=-1) #Run 10 jobs at a time, use -1 uses as many jobs as possible by processor\n",
    "clf.fit(X_train, y_train) #same as train\n",
    "accuracy = clf.score(X_test, y_test) #for test score accuracy\n",
    "print(accuracy)\n"
   ]
  },
  {
   "cell_type": "code",
   "execution_count": null,
   "metadata": {},
   "outputs": [],
   "source": [
    "#Predictions\n",
    "forecast_set = clf.predict(X_recent)\n",
    "print(forecast_set, accuracy, forecast_out)\n",
    "\n",
    "df['Forecast'] = np.nan\n",
    "\n",
    "last_date = df.iloc[-1].name #Very last date\n",
    "last_unix = last_date.timestamp()\n",
    "one_day = 86400 #for unix time\n",
    "next_unix = last_unix + one_day\n",
    "\n",
    "for i in forecast_set:\n",
    "    next_date = dt.datetime.fromtimestamp(next_unix)\n",
    "    next_unix += one_day\n",
    "    #takes all first cols, sets to nan for future data we don't have, sets final column to i\n",
    "    df.loc[next_date] = [np.nan for x in range(len(df.columns)-1) ] + [i] #remember that df.loc references index\n",
    "\n",
    "df['Adj. Close'].plot()\n",
    "df['Forecast'].plot()\n",
    "plt.legend(loc=4)\n",
    "plt.xlabel('Date')\n",
    "plt.ylabel('Price')\n",
    "plt.show()"
   ]
  }
 ],
 "metadata": {
  "language_info": {
   "codemirror_mode": {
    "name": "ipython",
    "version": 3
   },
   "file_extension": ".py",
   "mimetype": "text/x-python",
   "name": "python",
   "nbconvert_exporter": "python",
   "pygments_lexer": "ipython3",
   "version": "3.7.4-final"
  },
  "orig_nbformat": 2,
  "kernelspec": {
   "name": "python37464bitbasecondae6d94403c8c74c4da5694606c3b74da6",
   "display_name": "Python 3.7.4 64-bit ('base': conda)"
  }
 },
 "nbformat": 4,
 "nbformat_minor": 2
}